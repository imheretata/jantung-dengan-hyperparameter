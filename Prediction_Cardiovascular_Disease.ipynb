{
  "nbformat": 4,
  "nbformat_minor": 0,
  "metadata": {
    "colab": {
      "provenance": []
    },
    "kernelspec": {
      "name": "python3",
      "display_name": "Python 3"
    },
    "language_info": {
      "name": "python"
    }
  },
  "cells": [
    {
      "cell_type": "code",
      "execution_count": null,
      "metadata": {
        "colab": {
          "base_uri": "https://localhost:8080/"
        },
        "id": "6QQEMF0vmFHl",
        "outputId": "4f1e8f83-37e1-4a62-a78c-7754f91e7103"
      },
      "outputs": [
        {
          "output_type": "stream",
          "name": "stdout",
          "text": [
            "Requirement already satisfied: pyspark in /usr/local/lib/python3.10/dist-packages (3.5.0)\n",
            "Requirement already satisfied: py4j==0.10.9.7 in /usr/local/lib/python3.10/dist-packages (from pyspark) (0.10.9.7)\n"
          ]
        }
      ],
      "source": [
        "pip install pyspark"
      ]
    },
    {
      "cell_type": "code",
      "source": [
        "from google.colab import drive\n",
        "drive.mount('/content/drive')"
      ],
      "metadata": {
        "colab": {
          "base_uri": "https://localhost:8080/"
        },
        "id": "ZLbn18aymN9g",
        "outputId": "62f4b9b6-21de-4088-eed4-475a2aea6096"
      },
      "execution_count": null,
      "outputs": [
        {
          "output_type": "stream",
          "name": "stdout",
          "text": [
            "Drive already mounted at /content/drive; to attempt to forcibly remount, call drive.mount(\"/content/drive\", force_remount=True).\n"
          ]
        }
      ]
    },
    {
      "cell_type": "code",
      "source": [
        "import pandas as pd\n",
        "from pyspark.sql import SparkSession\n",
        "from pyspark.sql.functions import col\n",
        "import matplotlib.pyplot as plt\n",
        "from pyspark.sql.functions import sum, when\n",
        "from pyspark.ml.feature import VectorAssembler\n",
        "from pyspark.ml.stat import Correlation\n",
        "import seaborn as sns"
      ],
      "metadata": {
        "id": "DBkd9_immbNK"
      },
      "execution_count": null,
      "outputs": []
    },
    {
      "cell_type": "code",
      "source": [
        "spark = SparkSession.builder.appName('Cardiovascular').getOrCreate()\n",
        "Cardiovascular = spark.read.csv('/content/drive/MyDrive/Big Data & Predictive Analytics Lanjut/Dataset/Cardiovascular_Disease_Dataset.csv', header = True, inferSchema = True)\n",
        "# melihat tipe data dari dataset\n",
        "Cardiovascular.show()"
      ],
      "metadata": {
        "colab": {
          "base_uri": "https://localhost:8080/"
        },
        "id": "g1pMe93lmclM",
        "outputId": "cd980ced-0933-4107-cef8-25d1f03cd37a"
      },
      "execution_count": null,
      "outputs": [
        {
          "output_type": "stream",
          "name": "stdout",
          "text": [
            "+---------+---+------+---------+---------+---------------+-----------------+---------------+------------+-------------+-------+-----+----------------+------+\n",
            "|patientid|age|gender|chestpain|restingBP|serumcholestrol|fastingbloodsugar|restingrelectro|maxheartrate|exerciseangia|oldpeak|slope|noofmajorvessels|target|\n",
            "+---------+---+------+---------+---------+---------------+-----------------+---------------+------------+-------------+-------+-----+----------------+------+\n",
            "|   103368| 53|     1|        2|      171|              0|                0|              1|         147|            0|    5.3|    3|               3|     1|\n",
            "|   119250| 40|     1|        0|       94|            229|                0|              1|         115|            0|    3.7|    1|               1|     0|\n",
            "|   119372| 49|     1|        2|      133|            142|                0|              0|         202|            1|    5.0|    1|               0|     0|\n",
            "|   132514| 43|     1|        0|      138|            295|                1|              1|         153|            0|    3.2|    2|               2|     1|\n",
            "|   146211| 31|     1|        1|      199|              0|                0|              2|         136|            0|    5.3|    3|               2|     1|\n",
            "|   148462| 24|     1|        1|      173|              0|                0|              0|         161|            0|    4.7|    3|               2|     1|\n",
            "|   168686| 79|     1|        2|      130|            240|                0|              2|         157|            0|    2.5|    2|               1|     1|\n",
            "|   170498| 52|     1|        0|      127|            345|                0|              0|         192|            1|    4.9|    1|               0|     0|\n",
            "|   188225| 62|     1|        0|      121|            357|                0|              1|         138|            0|    2.8|    0|               0|     0|\n",
            "|   192523| 61|     0|        0|      190|            181|                0|              1|         150|            0|    2.9|    2|               0|     1|\n",
            "|   201030| 59|     0|        1|      190|            529|                1|              1|         151|            1|    3.2|    2|               2|     1|\n",
            "|   208877| 58|     1|        2|      192|            409|                1|              0|         138|            0|    2.3|    3|               1|     1|\n",
            "|   223295| 27|     1|        0|      129|            135|                0|              1|         192|            1|    1.0|    0|               0|     0|\n",
            "|   226481| 59|     1|        0|       98|            209|                0|              0|         117|            1|    5.6|    1|               0|     0|\n",
            "|   229445| 58|     1|        0|      170|            354|                0|              0|         170|            0|    5.6|    1|               0|     0|\n",
            "|   235344| 32|     1|        2|      188|              0|                0|              0|         134|            1|    4.5|    2|               3|     1|\n",
            "|   236763| 42|     0|        3|      137|            350|                0|              1|         110|            0|    3.2|    2|               2|     1|\n",
            "|   240461| 65|     1|        0|      200|            247|                1|              1|         194|            1|    3.7|    1|               1|     0|\n",
            "|   247055| 59|     1|        2|      182|            177|                0|              1|         168|            0|    2.1|    2|               1|     1|\n",
            "|   260870| 35|     1|        0|      127|            269|                0|              0|          87|            1|    3.8|    0|               1|     0|\n",
            "+---------+---+------+---------+---------+---------------+-----------------+---------------+------------+-------------+-------+-----+----------------+------+\n",
            "only showing top 20 rows\n",
            "\n"
          ]
        }
      ]
    },
    {
      "cell_type": "code",
      "source": [
        "# melihat jumlah dataset\n",
        "Cardiovascular.count()"
      ],
      "metadata": {
        "colab": {
          "base_uri": "https://localhost:8080/"
        },
        "id": "k0wrW5pznB5w",
        "outputId": "12c752d1-9a24-4270-adb2-ed7413358b43"
      },
      "execution_count": null,
      "outputs": [
        {
          "output_type": "execute_result",
          "data": {
            "text/plain": [
              "1000"
            ]
          },
          "metadata": {},
          "execution_count": 75
        }
      ]
    },
    {
      "cell_type": "markdown",
      "source": [
        "## pre-processing"
      ],
      "metadata": {
        "id": "UEgXpDQWc7RP"
      }
    },
    {
      "cell_type": "code",
      "source": [
        "Cardiovascular.printSchema()"
      ],
      "metadata": {
        "colab": {
          "base_uri": "https://localhost:8080/"
        },
        "id": "fAJkMPLom2te",
        "outputId": "a22aa046-8160-4ac5-f656-055c84dafca9"
      },
      "execution_count": null,
      "outputs": [
        {
          "output_type": "stream",
          "name": "stdout",
          "text": [
            "root\n",
            " |-- patientid: integer (nullable = true)\n",
            " |-- age: integer (nullable = true)\n",
            " |-- gender: integer (nullable = true)\n",
            " |-- chestpain: integer (nullable = true)\n",
            " |-- restingBP: integer (nullable = true)\n",
            " |-- serumcholestrol: integer (nullable = true)\n",
            " |-- fastingbloodsugar: integer (nullable = true)\n",
            " |-- restingrelectro: integer (nullable = true)\n",
            " |-- maxheartrate: integer (nullable = true)\n",
            " |-- exerciseangia: integer (nullable = true)\n",
            " |-- oldpeak: double (nullable = true)\n",
            " |-- slope: integer (nullable = true)\n",
            " |-- noofmajorvessels: integer (nullable = true)\n",
            " |-- target: integer (nullable = true)\n",
            "\n"
          ]
        }
      ]
    },
    {
      "cell_type": "code",
      "source": [
        "# Melakukan perbaikan pada penamaan kolom\n",
        "Cardiovascular = Cardiovascular.withColumnRenamed(\"patientid\", \"ID\")\\\n",
        "               .withColumnRenamed(\"age\", \"Usia\")\\\n",
        "               .withColumnRenamed(\"gender\", \"Gender\")\\\n",
        "               .withColumnRenamed(\"chestpain\", \"Nyeri_Dada\")\\\n",
        "               .withColumnRenamed(\"restingBP\", \"RestingBP\")\\\n",
        "               .withColumnRenamed(\"serumcholestrol\", \"Kolesterol\")\\\n",
        "               .withColumnRenamed(\"fastingbloodsugar\", \"Gula_Darah\")\\\n",
        "               .withColumnRenamed(\"restingrelectro\", \"Restingrelectro\")\\\n",
        "               .withColumnRenamed(\"maxheartrate\", \"Detak_Jantung\")\\\n",
        "               .withColumnRenamed(\"exerciseangia\", \"Exerciseangia\")\\\n",
        "               .withColumnRenamed(\"oldpeak\", \"Oldpeak\")\\\n",
        "               .withColumnRenamed(\"slope\", \"Slope\")\\\n",
        "               .withColumnRenamed(\"noofmajorvessels\", \"Noofmajorvessels\")\\\n",
        "               .withColumnRenamed(\"target\", \"Cardiovascular_Disease\")\n",
        "Cardiovascular.show()"
      ],
      "metadata": {
        "colab": {
          "base_uri": "https://localhost:8080/"
        },
        "id": "k80pPQU4nMBI",
        "outputId": "e9ea11f1-429e-4490-f6ab-2e67f6762cb3"
      },
      "execution_count": null,
      "outputs": [
        {
          "output_type": "stream",
          "name": "stdout",
          "text": [
            "+------+----+------+----------+---------+----------+----------+---------------+-------------+-------------+-------+-----+----------------+----------------------+\n",
            "|    ID|Usia|Gender|Nyeri_Dada|RestingBP|Kolesterol|Gula_Darah|Restingrelectro|Detak_Jantung|Exerciseangia|Oldpeak|Slope|Noofmajorvessels|Cardiovascular_Disease|\n",
            "+------+----+------+----------+---------+----------+----------+---------------+-------------+-------------+-------+-----+----------------+----------------------+\n",
            "|103368|  53|     1|         2|      171|         0|         0|              1|          147|            0|    5.3|    3|               3|                     1|\n",
            "|119250|  40|     1|         0|       94|       229|         0|              1|          115|            0|    3.7|    1|               1|                     0|\n",
            "|119372|  49|     1|         2|      133|       142|         0|              0|          202|            1|    5.0|    1|               0|                     0|\n",
            "|132514|  43|     1|         0|      138|       295|         1|              1|          153|            0|    3.2|    2|               2|                     1|\n",
            "|146211|  31|     1|         1|      199|         0|         0|              2|          136|            0|    5.3|    3|               2|                     1|\n",
            "|148462|  24|     1|         1|      173|         0|         0|              0|          161|            0|    4.7|    3|               2|                     1|\n",
            "|168686|  79|     1|         2|      130|       240|         0|              2|          157|            0|    2.5|    2|               1|                     1|\n",
            "|170498|  52|     1|         0|      127|       345|         0|              0|          192|            1|    4.9|    1|               0|                     0|\n",
            "|188225|  62|     1|         0|      121|       357|         0|              1|          138|            0|    2.8|    0|               0|                     0|\n",
            "|192523|  61|     0|         0|      190|       181|         0|              1|          150|            0|    2.9|    2|               0|                     1|\n",
            "|201030|  59|     0|         1|      190|       529|         1|              1|          151|            1|    3.2|    2|               2|                     1|\n",
            "|208877|  58|     1|         2|      192|       409|         1|              0|          138|            0|    2.3|    3|               1|                     1|\n",
            "|223295|  27|     1|         0|      129|       135|         0|              1|          192|            1|    1.0|    0|               0|                     0|\n",
            "|226481|  59|     1|         0|       98|       209|         0|              0|          117|            1|    5.6|    1|               0|                     0|\n",
            "|229445|  58|     1|         0|      170|       354|         0|              0|          170|            0|    5.6|    1|               0|                     0|\n",
            "|235344|  32|     1|         2|      188|         0|         0|              0|          134|            1|    4.5|    2|               3|                     1|\n",
            "|236763|  42|     0|         3|      137|       350|         0|              1|          110|            0|    3.2|    2|               2|                     1|\n",
            "|240461|  65|     1|         0|      200|       247|         1|              1|          194|            1|    3.7|    1|               1|                     0|\n",
            "|247055|  59|     1|         2|      182|       177|         0|              1|          168|            0|    2.1|    2|               1|                     1|\n",
            "|260870|  35|     1|         0|      127|       269|         0|              0|           87|            1|    3.8|    0|               1|                     0|\n",
            "+------+----+------+----------+---------+----------+----------+---------------+-------------+-------------+-------+-----+----------------+----------------------+\n",
            "only showing top 20 rows\n",
            "\n"
          ]
        }
      ]
    },
    {
      "cell_type": "code",
      "source": [
        "# Melihat missing value dalam dataset\n",
        "from pyspark.sql.functions import col, count\n",
        "\n",
        "for colname in Cardiovascular.columns:\n",
        "  null_count = Cardiovascular.filter(col(colname).isNull()).count()\n",
        "  print(f\"jumlah nilai null pada setiap kolom {colname} : {null_count}\")"
      ],
      "metadata": {
        "colab": {
          "base_uri": "https://localhost:8080/"
        },
        "id": "tHqbEEAMneLH",
        "outputId": "78a18fad-b505-471d-e279-858e16e245ec"
      },
      "execution_count": null,
      "outputs": [
        {
          "output_type": "stream",
          "name": "stdout",
          "text": [
            "jumlah nilai null pada setiap kolom ID : 0\n",
            "jumlah nilai null pada setiap kolom Usia : 0\n",
            "jumlah nilai null pada setiap kolom Gender : 0\n",
            "jumlah nilai null pada setiap kolom Nyeri_Dada : 0\n",
            "jumlah nilai null pada setiap kolom RestingBP : 0\n",
            "jumlah nilai null pada setiap kolom Kolesterol : 0\n",
            "jumlah nilai null pada setiap kolom Gula_Darah : 0\n",
            "jumlah nilai null pada setiap kolom Restingrelectro : 0\n",
            "jumlah nilai null pada setiap kolom Detak_Jantung : 0\n",
            "jumlah nilai null pada setiap kolom Exerciseangia : 0\n",
            "jumlah nilai null pada setiap kolom Oldpeak : 0\n",
            "jumlah nilai null pada setiap kolom Slope : 0\n",
            "jumlah nilai null pada setiap kolom Noofmajorvessels : 0\n",
            "jumlah nilai null pada setiap kolom Cardiovascular_Disease : 0\n"
          ]
        }
      ]
    },
    {
      "cell_type": "code",
      "source": [
        "# Summary (Describe)\n",
        "Cardiovascular.describe().show()"
      ],
      "metadata": {
        "colab": {
          "base_uri": "https://localhost:8080/"
        },
        "id": "yxQjzg4NoYQz",
        "outputId": "b0daedf8-060a-491c-9300-70eafa555d1b"
      },
      "execution_count": null,
      "outputs": [
        {
          "output_type": "stream",
          "name": "stdout",
          "text": [
            "+-------+----------------+-----------------+------------------+-----------------+-----------------+------------------+------------------+------------------+-----------------+------------------+------------------+-----------------+------------------+----------------------+\n",
            "|summary|              ID|             Usia|            Gender|       Nyeri_Dada|        RestingBP|        Kolesterol|        Gula_Darah|   Restingrelectro|    Detak_Jantung|     Exerciseangia|           Oldpeak|            Slope|  Noofmajorvessels|Cardiovascular_Disease|\n",
            "+-------+----------------+-----------------+------------------+-----------------+-----------------+------------------+------------------+------------------+-----------------+------------------+------------------+-----------------+------------------+----------------------+\n",
            "|  count|            1000|             1000|              1000|             1000|             1000|              1000|              1000|              1000|             1000|              1000|              1000|             1000|              1000|                  1000|\n",
            "|   mean|     5048704.412|           49.242|             0.765|             0.98|          151.747|           311.447|             0.296|             0.748|          145.477|             0.498| 2.707700000000001|             1.54|             1.222|                  0.58|\n",
            "| stddev|2895904.50048785|17.86473018504854|0.4242109792956269|0.953157126872851|29.96522828055722|132.44380148406918|0.4567193805747604|0.7701227753346148|34.19026828566056|0.5002461856388775|1.7207532367256209|1.003696870278774|0.9775846110039119|   0.49380547166251987|\n",
            "|    min|          103368|               20|                 0|                0|               94|                 0|                 0|                 0|               71|                 0|               0.0|                0|                 0|                     0|\n",
            "|    max|         9990855|               80|                 1|                3|              200|               602|                 1|                 2|              202|                 1|               6.2|                3|                 3|                     1|\n",
            "+-------+----------------+-----------------+------------------+-----------------+-----------------+------------------+------------------+------------------+-----------------+------------------+------------------+-----------------+------------------+----------------------+\n",
            "\n"
          ]
        }
      ]
    },
    {
      "cell_type": "code",
      "source": [
        "# Mengambil kolom yang memiliki fitur numerik\n",
        "numeric_features = [t[0] for t in Cardiovascular.dtypes if t[1] in ['int','double']]\n",
        "numeric_summary = Cardiovascular.select(numeric_features).summary()\n",
        "numeric_summary.show(truncate=False)"
      ],
      "metadata": {
        "colab": {
          "base_uri": "https://localhost:8080/"
        },
        "id": "Lypfzn3wogzL",
        "outputId": "f9ca83d3-1d26-4fda-8aaf-f94a5dab6e43"
      },
      "execution_count": null,
      "outputs": [
        {
          "output_type": "stream",
          "name": "stdout",
          "text": [
            "+-------+----------------+-----------------+------------------+-----------------+-----------------+------------------+------------------+------------------+-----------------+------------------+------------------+-----------------+------------------+----------------------+\n",
            "|summary|ID              |Usia             |Gender            |Nyeri_Dada       |RestingBP        |Kolesterol        |Gula_Darah        |Restingrelectro   |Detak_Jantung    |Exerciseangia     |Oldpeak           |Slope            |Noofmajorvessels  |Cardiovascular_Disease|\n",
            "+-------+----------------+-----------------+------------------+-----------------+-----------------+------------------+------------------+------------------+-----------------+------------------+------------------+-----------------+------------------+----------------------+\n",
            "|count  |1000            |1000             |1000              |1000             |1000             |1000              |1000              |1000              |1000             |1000              |1000              |1000             |1000              |1000                  |\n",
            "|mean   |5048704.412     |49.242           |0.765             |0.98             |151.747          |311.447           |0.296             |0.748             |145.477          |0.498             |2.707700000000001 |1.54             |1.222             |0.58                  |\n",
            "|stddev |2895904.50048785|17.86473018504854|0.4242109792956269|0.953157126872851|29.96522828055722|132.44380148406918|0.4567193805747604|0.7701227753346148|34.19026828566056|0.5002461856388775|1.7207532367256209|1.003696870278774|0.9775846110039119|0.49380547166251987   |\n",
            "|min    |103368          |20               |0                 |0                |94               |0                 |0                 |0                 |71               |0                 |0.0               |0                |0                 |0                     |\n",
            "|25%    |2527921         |34               |1                 |0                |129              |235               |0                 |0                 |119              |0                 |1.3               |1                |0                 |0                     |\n",
            "|50%    |4948589         |49               |1                 |1                |147              |318               |0                 |1                 |146              |0                 |2.4               |2                |1                 |1                     |\n",
            "|75%    |7678399         |64               |1                 |2                |181              |404               |1                 |1                 |175              |1                 |4.1               |2                |2                 |1                     |\n",
            "|max    |9990855         |80               |1                 |3                |200              |602               |1                 |2                 |202              |1                 |6.2               |3                |3                 |1                     |\n",
            "+-------+----------------+-----------------+------------------+-----------------+-----------------+------------------+------------------+------------------+-----------------+------------------+------------------+-----------------+------------------+----------------------+\n",
            "\n"
          ]
        }
      ]
    },
    {
      "cell_type": "code",
      "source": [
        "data_take = Cardiovascular.limit(5)\n",
        "transposed_data = data_take.select([col(column).alias(str(column)) for column in data_take.columns]).toPandas().transpose()\n",
        "print(transposed_data)"
      ],
      "metadata": {
        "colab": {
          "base_uri": "https://localhost:8080/"
        },
        "id": "8OxaHqa5olU_",
        "outputId": "03320527-f360-44f4-d407-aea798a38ceb"
      },
      "execution_count": null,
      "outputs": [
        {
          "output_type": "stream",
          "name": "stdout",
          "text": [
            "                               0         1         2         3         4\n",
            "ID                      103368.0  119250.0  119372.0  132514.0  146211.0\n",
            "Usia                        53.0      40.0      49.0      43.0      31.0\n",
            "Gender                       1.0       1.0       1.0       1.0       1.0\n",
            "Nyeri_Dada                   2.0       0.0       2.0       0.0       1.0\n",
            "RestingBP                  171.0      94.0     133.0     138.0     199.0\n",
            "Kolesterol                   0.0     229.0     142.0     295.0       0.0\n",
            "Gula_Darah                   0.0       0.0       0.0       1.0       0.0\n",
            "Restingrelectro              1.0       1.0       0.0       1.0       2.0\n",
            "Detak_Jantung              147.0     115.0     202.0     153.0     136.0\n",
            "Exerciseangia                0.0       0.0       1.0       0.0       0.0\n",
            "Oldpeak                      5.3       3.7       5.0       3.2       5.3\n",
            "Slope                        3.0       1.0       1.0       2.0       3.0\n",
            "Noofmajorvessels             3.0       1.0       0.0       2.0       2.0\n",
            "Cardiovascular_Disease       1.0       0.0       0.0       1.0       1.0\n"
          ]
        }
      ]
    },
    {
      "cell_type": "code",
      "source": [
        "import pandas as pd\n",
        "pd.DataFrame(Cardiovascular.take(10), columns=Cardiovascular.columns).transpose()"
      ],
      "metadata": {
        "colab": {
          "base_uri": "https://localhost:8080/",
          "height": 488
        },
        "id": "Geqx520PorED",
        "outputId": "8424c788-2b23-46c7-d6ae-a88061189dd0"
      },
      "execution_count": null,
      "outputs": [
        {
          "output_type": "execute_result",
          "data": {
            "text/plain": [
              "                               0         1         2         3         4  \\\n",
              "ID                      103368.0  119250.0  119372.0  132514.0  146211.0   \n",
              "Usia                        53.0      40.0      49.0      43.0      31.0   \n",
              "Gender                       1.0       1.0       1.0       1.0       1.0   \n",
              "Nyeri_Dada                   2.0       0.0       2.0       0.0       1.0   \n",
              "RestingBP                  171.0      94.0     133.0     138.0     199.0   \n",
              "Kolesterol                   0.0     229.0     142.0     295.0       0.0   \n",
              "Gula_Darah                   0.0       0.0       0.0       1.0       0.0   \n",
              "Restingrelectro              1.0       1.0       0.0       1.0       2.0   \n",
              "Detak_Jantung              147.0     115.0     202.0     153.0     136.0   \n",
              "Exerciseangia                0.0       0.0       1.0       0.0       0.0   \n",
              "Oldpeak                      5.3       3.7       5.0       3.2       5.3   \n",
              "Slope                        3.0       1.0       1.0       2.0       3.0   \n",
              "Noofmajorvessels             3.0       1.0       0.0       2.0       2.0   \n",
              "Cardiovascular_Disease       1.0       0.0       0.0       1.0       1.0   \n",
              "\n",
              "                               5         6         7         8         9  \n",
              "ID                      148462.0  168686.0  170498.0  188225.0  192523.0  \n",
              "Usia                        24.0      79.0      52.0      62.0      61.0  \n",
              "Gender                       1.0       1.0       1.0       1.0       0.0  \n",
              "Nyeri_Dada                   1.0       2.0       0.0       0.0       0.0  \n",
              "RestingBP                  173.0     130.0     127.0     121.0     190.0  \n",
              "Kolesterol                   0.0     240.0     345.0     357.0     181.0  \n",
              "Gula_Darah                   0.0       0.0       0.0       0.0       0.0  \n",
              "Restingrelectro              0.0       2.0       0.0       1.0       1.0  \n",
              "Detak_Jantung              161.0     157.0     192.0     138.0     150.0  \n",
              "Exerciseangia                0.0       0.0       1.0       0.0       0.0  \n",
              "Oldpeak                      4.7       2.5       4.9       2.8       2.9  \n",
              "Slope                        3.0       2.0       1.0       0.0       2.0  \n",
              "Noofmajorvessels             2.0       1.0       0.0       0.0       0.0  \n",
              "Cardiovascular_Disease       1.0       1.0       0.0       0.0       1.0  "
            ],
            "text/html": [
              "\n",
              "  <div id=\"df-e0e6ac1e-c79d-4548-9b3b-453b52267cfc\" class=\"colab-df-container\">\n",
              "    <div>\n",
              "<style scoped>\n",
              "    .dataframe tbody tr th:only-of-type {\n",
              "        vertical-align: middle;\n",
              "    }\n",
              "\n",
              "    .dataframe tbody tr th {\n",
              "        vertical-align: top;\n",
              "    }\n",
              "\n",
              "    .dataframe thead th {\n",
              "        text-align: right;\n",
              "    }\n",
              "</style>\n",
              "<table border=\"1\" class=\"dataframe\">\n",
              "  <thead>\n",
              "    <tr style=\"text-align: right;\">\n",
              "      <th></th>\n",
              "      <th>0</th>\n",
              "      <th>1</th>\n",
              "      <th>2</th>\n",
              "      <th>3</th>\n",
              "      <th>4</th>\n",
              "      <th>5</th>\n",
              "      <th>6</th>\n",
              "      <th>7</th>\n",
              "      <th>8</th>\n",
              "      <th>9</th>\n",
              "    </tr>\n",
              "  </thead>\n",
              "  <tbody>\n",
              "    <tr>\n",
              "      <th>ID</th>\n",
              "      <td>103368.0</td>\n",
              "      <td>119250.0</td>\n",
              "      <td>119372.0</td>\n",
              "      <td>132514.0</td>\n",
              "      <td>146211.0</td>\n",
              "      <td>148462.0</td>\n",
              "      <td>168686.0</td>\n",
              "      <td>170498.0</td>\n",
              "      <td>188225.0</td>\n",
              "      <td>192523.0</td>\n",
              "    </tr>\n",
              "    <tr>\n",
              "      <th>Usia</th>\n",
              "      <td>53.0</td>\n",
              "      <td>40.0</td>\n",
              "      <td>49.0</td>\n",
              "      <td>43.0</td>\n",
              "      <td>31.0</td>\n",
              "      <td>24.0</td>\n",
              "      <td>79.0</td>\n",
              "      <td>52.0</td>\n",
              "      <td>62.0</td>\n",
              "      <td>61.0</td>\n",
              "    </tr>\n",
              "    <tr>\n",
              "      <th>Gender</th>\n",
              "      <td>1.0</td>\n",
              "      <td>1.0</td>\n",
              "      <td>1.0</td>\n",
              "      <td>1.0</td>\n",
              "      <td>1.0</td>\n",
              "      <td>1.0</td>\n",
              "      <td>1.0</td>\n",
              "      <td>1.0</td>\n",
              "      <td>1.0</td>\n",
              "      <td>0.0</td>\n",
              "    </tr>\n",
              "    <tr>\n",
              "      <th>Nyeri_Dada</th>\n",
              "      <td>2.0</td>\n",
              "      <td>0.0</td>\n",
              "      <td>2.0</td>\n",
              "      <td>0.0</td>\n",
              "      <td>1.0</td>\n",
              "      <td>1.0</td>\n",
              "      <td>2.0</td>\n",
              "      <td>0.0</td>\n",
              "      <td>0.0</td>\n",
              "      <td>0.0</td>\n",
              "    </tr>\n",
              "    <tr>\n",
              "      <th>RestingBP</th>\n",
              "      <td>171.0</td>\n",
              "      <td>94.0</td>\n",
              "      <td>133.0</td>\n",
              "      <td>138.0</td>\n",
              "      <td>199.0</td>\n",
              "      <td>173.0</td>\n",
              "      <td>130.0</td>\n",
              "      <td>127.0</td>\n",
              "      <td>121.0</td>\n",
              "      <td>190.0</td>\n",
              "    </tr>\n",
              "    <tr>\n",
              "      <th>Kolesterol</th>\n",
              "      <td>0.0</td>\n",
              "      <td>229.0</td>\n",
              "      <td>142.0</td>\n",
              "      <td>295.0</td>\n",
              "      <td>0.0</td>\n",
              "      <td>0.0</td>\n",
              "      <td>240.0</td>\n",
              "      <td>345.0</td>\n",
              "      <td>357.0</td>\n",
              "      <td>181.0</td>\n",
              "    </tr>\n",
              "    <tr>\n",
              "      <th>Gula_Darah</th>\n",
              "      <td>0.0</td>\n",
              "      <td>0.0</td>\n",
              "      <td>0.0</td>\n",
              "      <td>1.0</td>\n",
              "      <td>0.0</td>\n",
              "      <td>0.0</td>\n",
              "      <td>0.0</td>\n",
              "      <td>0.0</td>\n",
              "      <td>0.0</td>\n",
              "      <td>0.0</td>\n",
              "    </tr>\n",
              "    <tr>\n",
              "      <th>Restingrelectro</th>\n",
              "      <td>1.0</td>\n",
              "      <td>1.0</td>\n",
              "      <td>0.0</td>\n",
              "      <td>1.0</td>\n",
              "      <td>2.0</td>\n",
              "      <td>0.0</td>\n",
              "      <td>2.0</td>\n",
              "      <td>0.0</td>\n",
              "      <td>1.0</td>\n",
              "      <td>1.0</td>\n",
              "    </tr>\n",
              "    <tr>\n",
              "      <th>Detak_Jantung</th>\n",
              "      <td>147.0</td>\n",
              "      <td>115.0</td>\n",
              "      <td>202.0</td>\n",
              "      <td>153.0</td>\n",
              "      <td>136.0</td>\n",
              "      <td>161.0</td>\n",
              "      <td>157.0</td>\n",
              "      <td>192.0</td>\n",
              "      <td>138.0</td>\n",
              "      <td>150.0</td>\n",
              "    </tr>\n",
              "    <tr>\n",
              "      <th>Exerciseangia</th>\n",
              "      <td>0.0</td>\n",
              "      <td>0.0</td>\n",
              "      <td>1.0</td>\n",
              "      <td>0.0</td>\n",
              "      <td>0.0</td>\n",
              "      <td>0.0</td>\n",
              "      <td>0.0</td>\n",
              "      <td>1.0</td>\n",
              "      <td>0.0</td>\n",
              "      <td>0.0</td>\n",
              "    </tr>\n",
              "    <tr>\n",
              "      <th>Oldpeak</th>\n",
              "      <td>5.3</td>\n",
              "      <td>3.7</td>\n",
              "      <td>5.0</td>\n",
              "      <td>3.2</td>\n",
              "      <td>5.3</td>\n",
              "      <td>4.7</td>\n",
              "      <td>2.5</td>\n",
              "      <td>4.9</td>\n",
              "      <td>2.8</td>\n",
              "      <td>2.9</td>\n",
              "    </tr>\n",
              "    <tr>\n",
              "      <th>Slope</th>\n",
              "      <td>3.0</td>\n",
              "      <td>1.0</td>\n",
              "      <td>1.0</td>\n",
              "      <td>2.0</td>\n",
              "      <td>3.0</td>\n",
              "      <td>3.0</td>\n",
              "      <td>2.0</td>\n",
              "      <td>1.0</td>\n",
              "      <td>0.0</td>\n",
              "      <td>2.0</td>\n",
              "    </tr>\n",
              "    <tr>\n",
              "      <th>Noofmajorvessels</th>\n",
              "      <td>3.0</td>\n",
              "      <td>1.0</td>\n",
              "      <td>0.0</td>\n",
              "      <td>2.0</td>\n",
              "      <td>2.0</td>\n",
              "      <td>2.0</td>\n",
              "      <td>1.0</td>\n",
              "      <td>0.0</td>\n",
              "      <td>0.0</td>\n",
              "      <td>0.0</td>\n",
              "    </tr>\n",
              "    <tr>\n",
              "      <th>Cardiovascular_Disease</th>\n",
              "      <td>1.0</td>\n",
              "      <td>0.0</td>\n",
              "      <td>0.0</td>\n",
              "      <td>1.0</td>\n",
              "      <td>1.0</td>\n",
              "      <td>1.0</td>\n",
              "      <td>1.0</td>\n",
              "      <td>0.0</td>\n",
              "      <td>0.0</td>\n",
              "      <td>1.0</td>\n",
              "    </tr>\n",
              "  </tbody>\n",
              "</table>\n",
              "</div>\n",
              "    <div class=\"colab-df-buttons\">\n",
              "\n",
              "  <div class=\"colab-df-container\">\n",
              "    <button class=\"colab-df-convert\" onclick=\"convertToInteractive('df-e0e6ac1e-c79d-4548-9b3b-453b52267cfc')\"\n",
              "            title=\"Convert this dataframe to an interactive table.\"\n",
              "            style=\"display:none;\">\n",
              "\n",
              "  <svg xmlns=\"http://www.w3.org/2000/svg\" height=\"24px\" viewBox=\"0 -960 960 960\">\n",
              "    <path d=\"M120-120v-720h720v720H120Zm60-500h600v-160H180v160Zm220 220h160v-160H400v160Zm0 220h160v-160H400v160ZM180-400h160v-160H180v160Zm440 0h160v-160H620v160ZM180-180h160v-160H180v160Zm440 0h160v-160H620v160Z\"/>\n",
              "  </svg>\n",
              "    </button>\n",
              "\n",
              "  <style>\n",
              "    .colab-df-container {\n",
              "      display:flex;\n",
              "      gap: 12px;\n",
              "    }\n",
              "\n",
              "    .colab-df-convert {\n",
              "      background-color: #E8F0FE;\n",
              "      border: none;\n",
              "      border-radius: 50%;\n",
              "      cursor: pointer;\n",
              "      display: none;\n",
              "      fill: #1967D2;\n",
              "      height: 32px;\n",
              "      padding: 0 0 0 0;\n",
              "      width: 32px;\n",
              "    }\n",
              "\n",
              "    .colab-df-convert:hover {\n",
              "      background-color: #E2EBFA;\n",
              "      box-shadow: 0px 1px 2px rgba(60, 64, 67, 0.3), 0px 1px 3px 1px rgba(60, 64, 67, 0.15);\n",
              "      fill: #174EA6;\n",
              "    }\n",
              "\n",
              "    .colab-df-buttons div {\n",
              "      margin-bottom: 4px;\n",
              "    }\n",
              "\n",
              "    [theme=dark] .colab-df-convert {\n",
              "      background-color: #3B4455;\n",
              "      fill: #D2E3FC;\n",
              "    }\n",
              "\n",
              "    [theme=dark] .colab-df-convert:hover {\n",
              "      background-color: #434B5C;\n",
              "      box-shadow: 0px 1px 3px 1px rgba(0, 0, 0, 0.15);\n",
              "      filter: drop-shadow(0px 1px 2px rgba(0, 0, 0, 0.3));\n",
              "      fill: #FFFFFF;\n",
              "    }\n",
              "  </style>\n",
              "\n",
              "    <script>\n",
              "      const buttonEl =\n",
              "        document.querySelector('#df-e0e6ac1e-c79d-4548-9b3b-453b52267cfc button.colab-df-convert');\n",
              "      buttonEl.style.display =\n",
              "        google.colab.kernel.accessAllowed ? 'block' : 'none';\n",
              "\n",
              "      async function convertToInteractive(key) {\n",
              "        const element = document.querySelector('#df-e0e6ac1e-c79d-4548-9b3b-453b52267cfc');\n",
              "        const dataTable =\n",
              "          await google.colab.kernel.invokeFunction('convertToInteractive',\n",
              "                                                    [key], {});\n",
              "        if (!dataTable) return;\n",
              "\n",
              "        const docLinkHtml = 'Like what you see? Visit the ' +\n",
              "          '<a target=\"_blank\" href=https://colab.research.google.com/notebooks/data_table.ipynb>data table notebook</a>'\n",
              "          + ' to learn more about interactive tables.';\n",
              "        element.innerHTML = '';\n",
              "        dataTable['output_type'] = 'display_data';\n",
              "        await google.colab.output.renderOutput(dataTable, element);\n",
              "        const docLink = document.createElement('div');\n",
              "        docLink.innerHTML = docLinkHtml;\n",
              "        element.appendChild(docLink);\n",
              "      }\n",
              "    </script>\n",
              "  </div>\n",
              "\n",
              "\n",
              "<div id=\"df-1e0df59c-9f29-4383-b27a-ad3f03b13a24\">\n",
              "  <button class=\"colab-df-quickchart\" onclick=\"quickchart('df-1e0df59c-9f29-4383-b27a-ad3f03b13a24')\"\n",
              "            title=\"Suggest charts\"\n",
              "            style=\"display:none;\">\n",
              "\n",
              "<svg xmlns=\"http://www.w3.org/2000/svg\" height=\"24px\"viewBox=\"0 0 24 24\"\n",
              "     width=\"24px\">\n",
              "    <g>\n",
              "        <path d=\"M19 3H5c-1.1 0-2 .9-2 2v14c0 1.1.9 2 2 2h14c1.1 0 2-.9 2-2V5c0-1.1-.9-2-2-2zM9 17H7v-7h2v7zm4 0h-2V7h2v10zm4 0h-2v-4h2v4z\"/>\n",
              "    </g>\n",
              "</svg>\n",
              "  </button>\n",
              "\n",
              "<style>\n",
              "  .colab-df-quickchart {\n",
              "      --bg-color: #E8F0FE;\n",
              "      --fill-color: #1967D2;\n",
              "      --hover-bg-color: #E2EBFA;\n",
              "      --hover-fill-color: #174EA6;\n",
              "      --disabled-fill-color: #AAA;\n",
              "      --disabled-bg-color: #DDD;\n",
              "  }\n",
              "\n",
              "  [theme=dark] .colab-df-quickchart {\n",
              "      --bg-color: #3B4455;\n",
              "      --fill-color: #D2E3FC;\n",
              "      --hover-bg-color: #434B5C;\n",
              "      --hover-fill-color: #FFFFFF;\n",
              "      --disabled-bg-color: #3B4455;\n",
              "      --disabled-fill-color: #666;\n",
              "  }\n",
              "\n",
              "  .colab-df-quickchart {\n",
              "    background-color: var(--bg-color);\n",
              "    border: none;\n",
              "    border-radius: 50%;\n",
              "    cursor: pointer;\n",
              "    display: none;\n",
              "    fill: var(--fill-color);\n",
              "    height: 32px;\n",
              "    padding: 0;\n",
              "    width: 32px;\n",
              "  }\n",
              "\n",
              "  .colab-df-quickchart:hover {\n",
              "    background-color: var(--hover-bg-color);\n",
              "    box-shadow: 0 1px 2px rgba(60, 64, 67, 0.3), 0 1px 3px 1px rgba(60, 64, 67, 0.15);\n",
              "    fill: var(--button-hover-fill-color);\n",
              "  }\n",
              "\n",
              "  .colab-df-quickchart-complete:disabled,\n",
              "  .colab-df-quickchart-complete:disabled:hover {\n",
              "    background-color: var(--disabled-bg-color);\n",
              "    fill: var(--disabled-fill-color);\n",
              "    box-shadow: none;\n",
              "  }\n",
              "\n",
              "  .colab-df-spinner {\n",
              "    border: 2px solid var(--fill-color);\n",
              "    border-color: transparent;\n",
              "    border-bottom-color: var(--fill-color);\n",
              "    animation:\n",
              "      spin 1s steps(1) infinite;\n",
              "  }\n",
              "\n",
              "  @keyframes spin {\n",
              "    0% {\n",
              "      border-color: transparent;\n",
              "      border-bottom-color: var(--fill-color);\n",
              "      border-left-color: var(--fill-color);\n",
              "    }\n",
              "    20% {\n",
              "      border-color: transparent;\n",
              "      border-left-color: var(--fill-color);\n",
              "      border-top-color: var(--fill-color);\n",
              "    }\n",
              "    30% {\n",
              "      border-color: transparent;\n",
              "      border-left-color: var(--fill-color);\n",
              "      border-top-color: var(--fill-color);\n",
              "      border-right-color: var(--fill-color);\n",
              "    }\n",
              "    40% {\n",
              "      border-color: transparent;\n",
              "      border-right-color: var(--fill-color);\n",
              "      border-top-color: var(--fill-color);\n",
              "    }\n",
              "    60% {\n",
              "      border-color: transparent;\n",
              "      border-right-color: var(--fill-color);\n",
              "    }\n",
              "    80% {\n",
              "      border-color: transparent;\n",
              "      border-right-color: var(--fill-color);\n",
              "      border-bottom-color: var(--fill-color);\n",
              "    }\n",
              "    90% {\n",
              "      border-color: transparent;\n",
              "      border-bottom-color: var(--fill-color);\n",
              "    }\n",
              "  }\n",
              "</style>\n",
              "\n",
              "  <script>\n",
              "    async function quickchart(key) {\n",
              "      const quickchartButtonEl =\n",
              "        document.querySelector('#' + key + ' button');\n",
              "      quickchartButtonEl.disabled = true;  // To prevent multiple clicks.\n",
              "      quickchartButtonEl.classList.add('colab-df-spinner');\n",
              "      try {\n",
              "        const charts = await google.colab.kernel.invokeFunction(\n",
              "            'suggestCharts', [key], {});\n",
              "      } catch (error) {\n",
              "        console.error('Error during call to suggestCharts:', error);\n",
              "      }\n",
              "      quickchartButtonEl.classList.remove('colab-df-spinner');\n",
              "      quickchartButtonEl.classList.add('colab-df-quickchart-complete');\n",
              "    }\n",
              "    (() => {\n",
              "      let quickchartButtonEl =\n",
              "        document.querySelector('#df-1e0df59c-9f29-4383-b27a-ad3f03b13a24 button');\n",
              "      quickchartButtonEl.style.display =\n",
              "        google.colab.kernel.accessAllowed ? 'block' : 'none';\n",
              "    })();\n",
              "  </script>\n",
              "</div>\n",
              "    </div>\n",
              "  </div>\n"
            ]
          },
          "metadata": {},
          "execution_count": 82
        }
      ]
    },
    {
      "cell_type": "code",
      "source": [
        "grouped_data = Cardiovascular.groupBy('Cardiovascular_Disease').count()\n",
        "grouped_data.show()"
      ],
      "metadata": {
        "colab": {
          "base_uri": "https://localhost:8080/"
        },
        "id": "E1rVfhnrotiT",
        "outputId": "83b516ac-931b-46a5-9d14-692d20c13802"
      },
      "execution_count": null,
      "outputs": [
        {
          "output_type": "stream",
          "name": "stdout",
          "text": [
            "+----------------------+-----+\n",
            "|Cardiovascular_Disease|count|\n",
            "+----------------------+-----+\n",
            "|                     1|  580|\n",
            "|                     0|  420|\n",
            "+----------------------+-----+\n",
            "\n"
          ]
        }
      ]
    },
    {
      "cell_type": "code",
      "source": [
        "from pyspark.ml.feature import VectorAssembler\n",
        "from pyspark.ml.stat import Correlation\n",
        "from pyspark.sql.functions import col\n",
        "import seaborn as sns\n",
        "import matplotlib.pyplot as plt\n",
        "\n",
        "integer_columns = [col_name for col_name, col_type in Cardiovascular.dtypes if col_type in ['int','double']]\n",
        "Cardiovascular_assembler = VectorAssembler(inputCols=integer_columns, outputCol=\"features\")\n",
        "for c in integer_columns:\n",
        "      median_value = Cardiovascular.approxQuantile(c, [0.5], 0.0)[0]\n",
        "      Cardiovascular = Cardiovascular.na.fill(median_value, [c])\n",
        "\n",
        "vector_assembler = VectorAssembler(inputCols=integer_columns, outputCol=\"features\")\n",
        "Cardiovascular_assembled = vector_assembler.transform(Cardiovascular).select(\"features\")\n",
        "\n",
        "matrix = Correlation.corr(Cardiovascular_assembled, 'features').head()\n",
        "correlation_matrix = matrix[0].toArray()\n",
        "\n",
        "correlation_df = pd.DataFrame(correlation_matrix, columns=integer_columns, index=integer_columns)\n",
        "plt.figure(figsize=(12, 8))\n",
        "sns.heatmap(correlation_df, annot=True, cmap=\"coolwarm\", fmt=\".2f\", linewidths=.5)\n",
        "plt.title(\"Correlation Matrix Heatmap \")\n",
        "plt.show()"
      ],
      "metadata": {
        "colab": {
          "base_uri": "https://localhost:8080/",
          "height": 850
        },
        "id": "IYyInb_6ov89",
        "outputId": "5cf9bd2f-658e-422c-cdb8-43ef8366371f"
      },
      "execution_count": null,
      "outputs": [
        {
          "output_type": "display_data",
          "data": {
            "text/plain": [
              "<Figure size 1200x800 with 2 Axes>"
            ],
            "image/png": "[encoded data removed]"
          },
          "metadata": {}
        }
      ]
    },
    {
      "cell_type": "code",
      "source": [
        "features = [\"Noofmajorvessels\", \"Slope\", \"Restingrelectro\",  \"RestingBP\", \"Nyeri_Dada\"]\n",
        "assembler = VectorAssembler(inputCols=features, outputCol=\"features\")\n",
        "Cardiovascular = assembler.transform(Cardiovascular).select('features', 'Cardiovascular_Disease')\n",
        "Cardiovascular.show(truncate=False)"
      ],
      "metadata": {
        "colab": {
          "base_uri": "https://localhost:8080/"
        },
        "id": "_XHMH2_sUWUf",
        "outputId": "112dd9d4-53d3-40af-b778-0f1d17937081"
      },
      "execution_count": null,
      "outputs": [
        {
          "output_type": "stream",
          "name": "stdout",
          "text": [
            "+-----------------------+----------------------+\n",
            "|features               |Cardiovascular_Disease|\n",
            "+-----------------------+----------------------+\n",
            "|[3.0,3.0,1.0,171.0,2.0]|1                     |\n",
            "|[1.0,1.0,1.0,94.0,0.0] |0                     |\n",
            "|[0.0,1.0,0.0,133.0,2.0]|0                     |\n",
            "|[2.0,2.0,1.0,138.0,0.0]|1                     |\n",
            "|[2.0,3.0,2.0,199.0,1.0]|1                     |\n",
            "|[2.0,3.0,0.0,173.0,1.0]|1                     |\n",
            "|[1.0,2.0,2.0,130.0,2.0]|1                     |\n",
            "|(5,[1,3],[1.0,127.0])  |0                     |\n",
            "|(5,[2,3],[1.0,121.0])  |0                     |\n",
            "|[0.0,2.0,1.0,190.0,0.0]|1                     |\n",
            "|[2.0,2.0,1.0,190.0,1.0]|1                     |\n",
            "|[1.0,3.0,0.0,192.0,2.0]|1                     |\n",
            "|(5,[2,3],[1.0,129.0])  |0                     |\n",
            "|(5,[1,3],[1.0,98.0])   |0                     |\n",
            "|(5,[1,3],[1.0,170.0])  |0                     |\n",
            "|[3.0,2.0,0.0,188.0,2.0]|1                     |\n",
            "|[2.0,2.0,1.0,137.0,3.0]|1                     |\n",
            "|[1.0,1.0,1.0,200.0,0.0]|0                     |\n",
            "|[1.0,2.0,1.0,182.0,2.0]|1                     |\n",
            "|(5,[0,3],[1.0,127.0])  |0                     |\n",
            "+-----------------------+----------------------+\n",
            "only showing top 20 rows\n",
            "\n"
          ]
        }
      ]
    },
    {
      "cell_type": "code",
      "source": [
        "train, test = Cardiovascular.randomSplit([0.8, 0.2], seed = 5)\n",
        "print(\"Training Dataset Count: \" + str(train.count()))\n",
        "print(\"Test Dataset Count: \" + str(test.count()))"
      ],
      "metadata": {
        "colab": {
          "base_uri": "https://localhost:8080/"
        },
        "outputId": "26c01b30-6bcc-4e02-82ca-b7e8d2372647",
        "id": "DA7FwseiyyuD"
      },
      "execution_count": null,
      "outputs": [
        {
          "output_type": "stream",
          "name": "stdout",
          "text": [
            "Training Dataset Count: 803\n",
            "Test Dataset Count: 197\n"
          ]
        }
      ]
    },
    {
      "cell_type": "markdown",
      "source": [
        "# decission tree"
      ],
      "metadata": {
        "id": "-krfIMM2DBdw"
      }
    },
    {
      "cell_type": "code",
      "source": [
        "\n",
        "from pyspark.ml.evaluation import  MulticlassClassificationEvaluator\n",
        "from pyspark.ml.classification import DecisionTreeClassifier\n",
        "\n",
        "# Membuat instance model\n",
        "dt = DecisionTreeClassifier(featuresCol='features', labelCol='Cardiovascular_Disease', maxDepth=10, maxBins=15)\n",
        "\n",
        "# Melatih model\n",
        "dt_model = dt.fit(train)\n",
        "\n",
        "# Memprediksi menggunakan model\n",
        "dt_predictions = dt_model.transform(test)\n",
        "\n",
        "dt_predictions.select('Cardiovascular_Disease', 'rawPrediction', 'prediction', 'probability').show(10)"
      ],
      "metadata": {
        "id": "Z3hNcTAk8Dvj",
        "colab": {
          "base_uri": "https://localhost:8080/"
        },
        "outputId": "3962401f-2858-4d0a-e9e3-187c94b5176d"
      },
      "execution_count": null,
      "outputs": [
        {
          "output_type": "stream",
          "name": "stdout",
          "text": [
            "+----------------------+-------------+----------+--------------------+\n",
            "|Cardiovascular_Disease|rawPrediction|prediction|         probability|\n",
            "+----------------------+-------------+----------+--------------------+\n",
            "|                     0|  [225.0,2.0]|       0.0|[0.99118942731277...|\n",
            "|                     0|  [225.0,2.0]|       0.0|[0.99118942731277...|\n",
            "|                     0|  [225.0,2.0]|       0.0|[0.99118942731277...|\n",
            "|                     0|  [225.0,2.0]|       0.0|[0.99118942731277...|\n",
            "|                     0|  [225.0,2.0]|       0.0|[0.99118942731277...|\n",
            "|                     0|  [225.0,2.0]|       0.0|[0.99118942731277...|\n",
            "|                     0|  [225.0,2.0]|       0.0|[0.99118942731277...|\n",
            "|                     0|  [225.0,2.0]|       0.0|[0.99118942731277...|\n",
            "|                     0|   [14.0,0.0]|       0.0|           [1.0,0.0]|\n",
            "|                     0|  [225.0,2.0]|       0.0|[0.99118942731277...|\n",
            "+----------------------+-------------+----------+--------------------+\n",
            "only showing top 10 rows\n",
            "\n"
          ]
        }
      ]
    },
    {
      "cell_type": "code",
      "source": [
        "from pyspark.ml.evaluation import BinaryClassificationEvaluator, MulticlassClassificationEvaluator\n",
        "from sklearn.metrics import f1_score, accuracy_score, precision_score, recall_score\n",
        "\n",
        "# Anggap 'predictions' dan 'Cardiovascular_Disease' adalah nilai yang diprediksi dan Cardiovascular_Disease sebenarnya\n",
        "# Misalnya, dt_predictions = model.transform(test_data), Cardiovascular_Disease = test_data.select('Cardiovascular_Disease').collect()\n",
        "# Inisialisasi evaluator\n",
        "\n",
        "evaluator = BinaryClassificationEvaluator()\n",
        "\n",
        "\n",
        "evaluator_auc = BinaryClassificationEvaluator(\n",
        "    labelCol='Cardiovascular_Disease',\n",
        "    rawPredictionCol='rawPrediction',\n",
        "    metricName='areaUnderROC'\n",
        ")\n",
        "\n",
        "# Hitung nilai Area Under ROC\n",
        "auc = evaluator_auc.evaluate(dt_predictions)\n",
        "print(f'Test Area Under ROC: {auc * 100:.2f}%')\n",
        "\n",
        "\n",
        "# Ambil nilai prediksi dan label sebagai array untuk perhitungan metrik lainnya\n",
        "predictions_model= dt_predictions.select('prediction').rdd.flatMap(lambda x: x).collect()\n",
        "target_model = [int(row.Cardiovascular_Disease) for row in dt_predictions.select('Cardiovascular_Disease').collect()]\n",
        "\n",
        "# Hitung nilai akurasi\n",
        "accuracy = accuracy_score(target_model, predictions_model) * 100\n",
        "print(f'Akurasi: {accuracy:.2f}%')\n",
        "\n",
        "# Hitung nilai F1-score\n",
        "f1 = f1_score(target_model, predictions_model) * 100\n",
        "print(f'Nilai F1-score: {f1:.2f}%')\n",
        "\n",
        "# Hitung nilai presisi\n",
        "precision = precision_score(target_model, predictions_model) * 100\n",
        "print(f'Presisi: {precision:.2f}%')\n",
        "\n",
        "# Hitung nilai recall\n",
        "recall = recall_score(target_model, predictions_model) * 100\n",
        "print(f'Recall: {recall:.2f}%')\n",
        "\n",
        "# Tampilkan kolom yang diinginkan dari dataframe 'predictions'\n",
        "dt_predictions.select('Cardiovascular_Disease', 'rawPrediction', 'prediction', 'probability').show(10)\n",
        "\n",
        "# Hitung jumlah prediksi yang salah\n",
        "wrong_predictions = dt_predictions.filter(dt_predictions['Cardiovascular_Disease'] != dt_predictions['prediction']).count()\n",
        "print(f'Jumlah prediksi yang salah: {wrong_predictions}')\n"
      ],
      "metadata": {
        "id": "-q50gu5K8LfO",
        "colab": {
          "base_uri": "https://localhost:8080/"
        },
        "outputId": "25860fed-e1c6-4781-acc6-7b983e5d9449"
      },
      "execution_count": null,
      "outputs": [
        {
          "output_type": "stream",
          "name": "stdout",
          "text": [
            "Test Area Under ROC: 92.71%\n",
            "Akurasi: 93.71%\n",
            "Nilai F1-score: 94.44%\n",
            "Presisi: 93.87%\n",
            "Recall: 95.03%\n",
            "+----------------------+-------------+----------+--------------------+\n",
            "|Cardiovascular_Disease|rawPrediction|prediction|         probability|\n",
            "+----------------------+-------------+----------+--------------------+\n",
            "|                     0|  [225.0,2.0]|       0.0|[0.99118942731277...|\n",
            "|                     0|  [225.0,2.0]|       0.0|[0.99118942731277...|\n",
            "|                     0|  [225.0,2.0]|       0.0|[0.99118942731277...|\n",
            "|                     0|  [225.0,2.0]|       0.0|[0.99118942731277...|\n",
            "|                     0|  [225.0,2.0]|       0.0|[0.99118942731277...|\n",
            "|                     0|  [225.0,2.0]|       0.0|[0.99118942731277...|\n",
            "|                     0|  [225.0,2.0]|       0.0|[0.99118942731277...|\n",
            "|                     0|  [225.0,2.0]|       0.0|[0.99118942731277...|\n",
            "|                     0|   [14.0,0.0]|       0.0|           [1.0,0.0]|\n",
            "|                     0|  [225.0,2.0]|       0.0|[0.99118942731277...|\n",
            "+----------------------+-------------+----------+--------------------+\n",
            "only showing top 10 rows\n",
            "\n",
            "Jumlah prediksi yang salah: 18\n"
          ]
        }
      ]
    },
    {
      "cell_type": "markdown",
      "source": [
        "# Logistic regression"
      ],
      "metadata": {
        "id": "zTioPbtzy5sW"
      }
    },
    {
      "cell_type": "code",
      "source": [
        "\n",
        "from pyspark.ml.evaluation import MulticlassClassificationEvaluator\n",
        "from pyspark.ml.classification import LogisticRegression\n",
        "\n",
        "# Membuat instance model\n",
        "lr = LogisticRegression(featuresCol='features', labelCol='Cardiovascular_Disease',  maxIter=20)\n",
        "\n",
        "# Melatih model\n",
        "lr_model = lr.fit(train)\n",
        "\n",
        "# Memprediksi menggunakan model\n",
        "lr_predictions = lr_model.transform(test)\n",
        "\n",
        "lr_predictions.select('Cardiovascular_Disease', 'rawPrediction', 'prediction', 'probability').show(10)"
      ],
      "metadata": {
        "colab": {
          "base_uri": "https://localhost:8080/"
        },
        "outputId": "f2e56d3c-18b7-4d19-d379-a99afe93aebd",
        "id": "INW7HKpjy5sh"
      },
      "execution_count": null,
      "outputs": [
        {
          "output_type": "stream",
          "name": "stdout",
          "text": [
            "+----------------------+--------------------+----------+--------------------+\n",
            "|Cardiovascular_Disease|       rawPrediction|prediction|         probability|\n",
            "+----------------------+--------------------+----------+--------------------+\n",
            "|                     0|[8.46964464916729...|       0.0|[0.99979030456019...|\n",
            "|                     0|[7.54331981703534...|       0.0|[0.99947064396222...|\n",
            "|                     0|[7.11324043068836...|       0.0|[0.99918641028247...|\n",
            "|                     0|[4.55327230847997...|       0.0|[0.98957709934893...|\n",
            "|                     0|[3.99086080325700...|       0.0|[0.98185165397449...|\n",
            "|                     0|[3.89161171410000...|       0.0|[0.97999591134404...|\n",
            "|                     0|[3.89161171410000...|       0.0|[0.97999591134404...|\n",
            "|                     0|[3.85852868438101...|       0.0|[0.97933695008896...|\n",
            "|                     0|[3.72619656550501...|       0.0|[0.97648214545786...|\n",
            "|                     0|[3.72619656550501...|       0.0|[0.97648214545786...|\n",
            "+----------------------+--------------------+----------+--------------------+\n",
            "only showing top 10 rows\n",
            "\n"
          ]
        }
      ]
    },
    {
      "cell_type": "code",
      "source": [
        "from pyspark.ml.evaluation import BinaryClassificationEvaluator, MulticlassClassificationEvaluator\n",
        "from sklearn.metrics import f1_score, accuracy_score, precision_score, recall_score\n",
        "\n",
        "# Anggap 'predictions' dan 'Cardiovascular_Disease' adalah nilai yang diprediksi dan Cardiovascular_Disease sebenarnya\n",
        "# Misalnya, dt_predictions = model.transform(test_data), Cardiovascular_Disease = test_data.select('Cardiovascular_Disease').collect()\n",
        "# Inisialisasi evaluator\n",
        "\n",
        "evaluator = BinaryClassificationEvaluator()\n",
        "\n",
        "\n",
        "evaluator_auc = BinaryClassificationEvaluator(\n",
        "    labelCol='Cardiovascular_Disease',\n",
        "    rawPredictionCol='rawPrediction',\n",
        "    metricName='areaUnderROC'\n",
        ")\n",
        "\n",
        "# Hitung nilai Area Under ROC\n",
        "auc = evaluator_auc.evaluate(lr_predictions)\n",
        "print(f'Test Area Under ROC: {auc * 100:.2f}%')\n",
        "\n",
        "# Ambil nilai prediksi dan label sebagai array untuk perhitungan metrik lainnya\n",
        "predictions_model= lr_predictions.select('prediction').rdd.flatMap(lambda x: x).collect()\n",
        "target_model = [int(row.Cardiovascular_Disease) for row in lr_predictions.select('Cardiovascular_Disease').collect()]\n",
        "\n",
        "# Hitung nilai akurasi\n",
        "accuracy = accuracy_score(target_model, predictions_model) * 100\n",
        "print(f'Akurasi: {accuracy:.2f}%')\n",
        "\n",
        "# Hitung nilai F1-score\n",
        "f1 = f1_score(target_model, predictions_model) * 100\n",
        "print(f'Nilai F1-score: {f1:.2f}%')\n",
        "\n",
        "# Hitung nilai presisi\n",
        "precision = precision_score(target_model, predictions_model) * 100\n",
        "print(f'Presisi: {precision:.2f}%')\n",
        "\n",
        "# Hitung nilai recall\n",
        "recall = recall_score(target_model, predictions_model) * 100\n",
        "print(f'Recall: {recall:.2f}%')\n",
        "\n",
        "# Tampilkan kolom yang diinginkan dari dataframe 'predictions'\n",
        "dt_predictions.select('Cardiovascular_Disease', 'rawPrediction', 'prediction', 'probability').show(10)\n",
        "\n",
        "# Hitung jumlah prediksi yang salah\n",
        "wrong_predictions = lr_predictions.filter(lr_predictions['Cardiovascular_Disease'] != lr_predictions['prediction']).count()\n",
        "print(f'Jumlah prediksi yang salah: {wrong_predictions}')\n"
      ],
      "metadata": {
        "colab": {
          "base_uri": "https://localhost:8080/"
        },
        "outputId": "444b044e-294e-4fb4-b9e8-d523b0d23297",
        "id": "PURw7FPfy5sh"
      },
      "execution_count": null,
      "outputs": [
        {
          "output_type": "stream",
          "name": "stdout",
          "text": [
            "Test Area Under ROC: 99.40%\n",
            "Akurasi: 95.43%\n",
            "Nilai F1-score: 96.33%\n",
            "Presisi: 95.93%\n",
            "Recall: 96.72%\n",
            "+----------------------+-------------+----------+--------------------+\n",
            "|Cardiovascular_Disease|rawPrediction|prediction|         probability|\n",
            "+----------------------+-------------+----------+--------------------+\n",
            "|                     0|  [225.0,2.0]|       0.0|[0.99118942731277...|\n",
            "|                     0|  [225.0,2.0]|       0.0|[0.99118942731277...|\n",
            "|                     0|  [225.0,2.0]|       0.0|[0.99118942731277...|\n",
            "|                     0|  [225.0,2.0]|       0.0|[0.99118942731277...|\n",
            "|                     0|  [225.0,2.0]|       0.0|[0.99118942731277...|\n",
            "|                     0|  [225.0,2.0]|       0.0|[0.99118942731277...|\n",
            "|                     0|  [225.0,2.0]|       0.0|[0.99118942731277...|\n",
            "|                     0|  [225.0,2.0]|       0.0|[0.99118942731277...|\n",
            "|                     0|   [14.0,0.0]|       0.0|           [1.0,0.0]|\n",
            "|                     0|  [225.0,2.0]|       0.0|[0.99118942731277...|\n",
            "+----------------------+-------------+----------+--------------------+\n",
            "only showing top 10 rows\n",
            "\n",
            "Jumlah prediksi yang salah: 9\n"
          ]
        }
      ]
    },
    {
      "cell_type": "markdown",
      "source": [
        "# GBT classifier"
      ],
      "metadata": {
        "id": "hYAMB8cJiR_v"
      }
    },
    {
      "cell_type": "code",
      "source": [
        "from pyspark.ml.evaluation import MulticlassClassificationEvaluator\n",
        "from pyspark.ml.classification import GBTClassifier\n",
        "\n",
        "# Membuat instance model\n",
        "gbt = GBTClassifier(featuresCol='features', labelCol='Cardiovascular_Disease',  maxIter=10)\n",
        "\n",
        "# Melatih model\n",
        "gbt_model = gbt.fit(train)\n",
        "\n",
        "# Memprediksi menggunakan model\n",
        "gbt_predictions = gbt_model.transform(test)\n",
        "\n",
        "gbt_predictions.select('Cardiovascular_Disease', 'rawPrediction', 'prediction', 'probability').show(10)"
      ],
      "metadata": {
        "colab": {
          "base_uri": "https://localhost:8080/"
        },
        "outputId": "b6c7a4ba-79a0-4ebb-ca51-c61b539bb8ff",
        "id": "C5ihtcgCiR_x"
      },
      "execution_count": null,
      "outputs": [
        {
          "output_type": "stream",
          "name": "stdout",
          "text": [
            "+----------------------+--------------------+----------+--------------------+\n",
            "|Cardiovascular_Disease|       rawPrediction|prediction|         probability|\n",
            "+----------------------+--------------------+----------+--------------------+\n",
            "|                     0|[1.32380090933194...|       0.0|[0.93386302596079...|\n",
            "|                     0|[1.32380090933194...|       0.0|[0.93386302596079...|\n",
            "|                     0|[1.25303901750786...|       0.0|[0.92456681589655...|\n",
            "|                     0|[1.32380090933194...|       0.0|[0.93386302596079...|\n",
            "|                     0|[1.32380090933194...|       0.0|[0.93386302596079...|\n",
            "|                     0|[1.32380090933194...|       0.0|[0.93386302596079...|\n",
            "|                     0|[1.32380090933194...|       0.0|[0.93386302596079...|\n",
            "|                     0|[1.32380090933194...|       0.0|[0.93386302596079...|\n",
            "|                     0|[1.32380090933194...|       0.0|[0.93386302596079...|\n",
            "|                     0|[1.32380090933194...|       0.0|[0.93386302596079...|\n",
            "+----------------------+--------------------+----------+--------------------+\n",
            "only showing top 10 rows\n",
            "\n"
          ]
        }
      ]
    },
    {
      "cell_type": "code",
      "source": [
        "from pyspark.ml.evaluation import  BinaryClassificationEvaluator, MulticlassClassificationEvaluator\n",
        "from sklearn.metrics import f1_score, accuracy_score, precision_score, recall_score\n",
        "\n",
        "# Anggap 'predictions' dan 'Cardiovascular_Disease' adalah nilai yang diprediksi dan Cardiovascular_Disease sebenarnya\n",
        "# Misalnya, dt_predictions = model.transform(test_data), Cardiovascular_Disease = test_data.select('Cardiovascular_Disease').collect()\n",
        "# Inisialisasi evaluator\n",
        "\n",
        "\n",
        "evaluator = BinaryClassificationEvaluator()\n",
        "\n",
        "\n",
        "evaluator_auc = BinaryClassificationEvaluator(\n",
        "    labelCol='Cardiovascular_Disease',\n",
        "    rawPredictionCol='rawPrediction',\n",
        "    metricName='areaUnderROC'\n",
        ")\n",
        "\n",
        "# Hitung nilai Area Under ROC\n",
        "auc = evaluator_auc.evaluate(lr_predictions)\n",
        "print(f'Test Area Under ROC: {auc * 100:.2f}%')\n",
        "\n",
        "# Ambil nilai prediksi dan label sebagai array untuk perhitungan metrik lainnya\n",
        "predictions_model= gbt_predictions.select('prediction').rdd.flatMap(lambda x: x).collect()\n",
        "target_model = [int(row.Cardiovascular_Disease) for row in gbt_predictions.select('Cardiovascular_Disease').collect()]\n",
        "\n",
        "# Hitung nilai akurasi\n",
        "accuracy = accuracy_score(target_model, predictions_model) * 100\n",
        "print(f'Akurasi: {accuracy:.2f}%')\n",
        "\n",
        "# Hitung nilai F1-score\n",
        "f1 = f1_score(target_model, predictions_model) * 100\n",
        "print(f'Nilai F1-score: {f1:.2f}%')\n",
        "\n",
        "# Hitung nilai presisi\n",
        "precision = precision_score(target_model, predictions_model) * 100\n",
        "print(f'Presisi: {precision:.2f}%')\n",
        "\n",
        "# Hitung nilai recall\n",
        "recall = recall_score(target_model, predictions_model) * 100\n",
        "print(f'Recall: {recall:.2f}%')\n",
        "\n",
        "# Tampilkan kolom yang diinginkan dari dataframe 'predictions'\n",
        "dt_predictions.select('Cardiovascular_Disease', 'rawPrediction', 'prediction', 'probability').show(10)\n",
        "\n",
        "# Hitung jumlah prediksi yang salah\n",
        "wrong_predictions = gbt_predictions.filter(gbt_predictions['Cardiovascular_Disease'] != gbt_predictions['prediction']).count()\n",
        "print(f'Jumlah prediksi yang salah: {wrong_predictions}')\n"
      ],
      "metadata": {
        "colab": {
          "base_uri": "https://localhost:8080/"
        },
        "outputId": "ffc18344-892b-4b06-d672-6d0bb012750c",
        "id": "v9HzY4mjiR_y"
      },
      "execution_count": null,
      "outputs": [
        {
          "output_type": "stream",
          "name": "stdout",
          "text": [
            "Test Area Under ROC: 99.40%\n",
            "Akurasi: 95.94%\n",
            "Nilai F1-score: 96.75%\n",
            "Presisi: 95.97%\n",
            "Recall: 97.54%\n",
            "+----------------------+-------------+----------+--------------------+\n",
            "|Cardiovascular_Disease|rawPrediction|prediction|         probability|\n",
            "+----------------------+-------------+----------+--------------------+\n",
            "|                     0|  [225.0,2.0]|       0.0|[0.99118942731277...|\n",
            "|                     0|  [225.0,2.0]|       0.0|[0.99118942731277...|\n",
            "|                     0|  [225.0,2.0]|       0.0|[0.99118942731277...|\n",
            "|                     0|  [225.0,2.0]|       0.0|[0.99118942731277...|\n",
            "|                     0|  [225.0,2.0]|       0.0|[0.99118942731277...|\n",
            "|                     0|  [225.0,2.0]|       0.0|[0.99118942731277...|\n",
            "|                     0|  [225.0,2.0]|       0.0|[0.99118942731277...|\n",
            "|                     0|  [225.0,2.0]|       0.0|[0.99118942731277...|\n",
            "|                     0|   [14.0,0.0]|       0.0|           [1.0,0.0]|\n",
            "|                     0|  [225.0,2.0]|       0.0|[0.99118942731277...|\n",
            "+----------------------+-------------+----------+--------------------+\n",
            "only showing top 10 rows\n",
            "\n",
            "Jumlah prediksi yang salah: 8\n"
          ]
        }
      ]
    },
    {
      "cell_type": "markdown",
      "source": [
        "# Random forest"
      ],
      "metadata": {
        "id": "XMYtuWybDQT7"
      }
    },
    {
      "cell_type": "code",
      "source": [
        "from pyspark.ml.evaluation import  MulticlassClassificationEvaluator\n",
        "from pyspark.ml.classification import RandomForestClassifier\n",
        "\n",
        "# Membuat instance model\n",
        "rfc = RandomForestClassifier(featuresCol='features', labelCol='Cardiovascular_Disease', numTrees=20, maxDepth=2)\n",
        "\n",
        "# Melatih model\n",
        "rfc_model = rfc.fit(train)\n",
        "\n",
        "# Memprediksi menggunakan model\n",
        "rfc_predictions = rfc_model.transform(test)\n",
        "\n",
        "rfc_predictions.select('Cardiovascular_Disease', 'rawPrediction', 'prediction', 'probability').show(10)"
      ],
      "metadata": {
        "id": "mKWjdamRBwdo",
        "colab": {
          "base_uri": "https://localhost:8080/"
        },
        "outputId": "7db5bb0b-6d81-471d-bc0f-bd04134a1d57"
      },
      "execution_count": null,
      "outputs": [
        {
          "output_type": "stream",
          "name": "stdout",
          "text": [
            "+----------------------+--------------------+----------+--------------------+\n",
            "|Cardiovascular_Disease|       rawPrediction|prediction|         probability|\n",
            "+----------------------+--------------------+----------+--------------------+\n",
            "|                     0|[18.0755757348385...|       0.0|[0.90377878674192...|\n",
            "|                     0|[18.0755757348385...|       0.0|[0.90377878674192...|\n",
            "|                     0|[18.0755757348385...|       0.0|[0.90377878674192...|\n",
            "|                     0|[18.0755757348385...|       0.0|[0.90377878674192...|\n",
            "|                     0|[18.0755757348385...|       0.0|[0.90377878674192...|\n",
            "|                     0|[18.0755757348385...|       0.0|[0.90377878674192...|\n",
            "|                     0|[18.0755757348385...|       0.0|[0.90377878674192...|\n",
            "|                     0|[18.0755757348385...|       0.0|[0.90377878674192...|\n",
            "|                     0|[16.8834945390487...|       0.0|[0.84417472695243...|\n",
            "|                     0|[18.0755757348385...|       0.0|[0.90377878674192...|\n",
            "+----------------------+--------------------+----------+--------------------+\n",
            "only showing top 10 rows\n",
            "\n"
          ]
        }
      ]
    },
    {
      "cell_type": "code",
      "source": [
        "from pyspark.ml.evaluation import  BinaryClassificationEvaluator, MulticlassClassificationEvaluator\n",
        "from sklearn.metrics import f1_score, accuracy_score, precision_score, recall_score\n",
        "\n",
        "# Anggap 'predictions' dan 'Cardiovascular_Disease' adalah nilai yang diprediksi dan Cardiovascular_Disease sebenarnya\n",
        "# Misalnya, dt_predictions = model.transform(test_data), Cardiovascular_Disease = test_data.select('Cardiovascular_Disease').collect()\n",
        "# Inisialisasi evaluator\n",
        "\n",
        "evaluator = BinaryClassificationEvaluator()\n",
        "\n",
        "\n",
        "evaluator_auc = BinaryClassificationEvaluator(\n",
        "    labelCol='Cardiovascular_Disease',\n",
        "    rawPredictionCol='rawPrediction',\n",
        "    metricName='areaUnderROC'\n",
        ")\n",
        "\n",
        "# Hitung nilai Area Under ROC\n",
        "auc = evaluator_auc.evaluate(rfc_predictions)\n",
        "print(f'Test Area Under ROC: {auc * 100:.2f}%')\n",
        "\n",
        "\n",
        "# Ambil nilai prediksi dan label sebagai array untuk perhitungan metrik lainnya\n",
        "predictions_model= rfc_predictions.select('prediction').rdd.flatMap(lambda x: x).collect()\n",
        "target_model = [int(row.Cardiovascular_Disease) for row in rfc_predictions.select('Cardiovascular_Disease').collect()]\n",
        "\n",
        "# Hitung nilai akurasi\n",
        "accuracy = accuracy_score(target_model, predictions_model) * 100\n",
        "print(f'Akurasi: {accuracy:.2f}%')\n",
        "\n",
        "# Hitung nilai F1-score\n",
        "f1 = f1_score(target_model, predictions_model) * 100\n",
        "print(f'Nilai F1-score: {f1:.2f}%')\n",
        "\n",
        "# Hitung nilai presisi\n",
        "precision = precision_score(target_model, predictions_model) * 100\n",
        "print(f'Presisi: {precision:.2f}%')\n",
        "\n",
        "# Hitung nilai recall\n",
        "recall = recall_score(target_model, predictions_model) * 100\n",
        "print(f'Recall: {recall:.2f}%')\n",
        "\n",
        "# Tampilkan kolom yang diinginkan dari dataframe 'predictions'\n",
        "dt_predictions.select('Cardiovascular_Disease', 'rawPrediction', 'prediction', 'probability').show(10)\n",
        "\n",
        "# Hitung jumlah prediksi yang salah\n",
        "wrong_predictions = rfc_predictions.filter(rfc_predictions['Cardiovascular_Disease'] != rfc_predictions['prediction']).count()\n",
        "print(f'Jumlah prediksi yang salah: {wrong_predictions}')\n"
      ],
      "metadata": {
        "id": "vEVj-JpvCbFX",
        "colab": {
          "base_uri": "https://localhost:8080/"
        },
        "outputId": "2a523570-ac0e-480c-e32b-4a7c61b5ce74"
      },
      "execution_count": null,
      "outputs": [
        {
          "output_type": "stream",
          "name": "stdout",
          "text": [
            "Test Area Under ROC: 94.92%\n",
            "Akurasi: 93.71%\n",
            "Nilai F1-score: 94.34%\n",
            "Presisi: 95.54%\n",
            "Recall: 93.17%\n",
            "+----------------------+-------------+----------+--------------------+\n",
            "|Cardiovascular_Disease|rawPrediction|prediction|         probability|\n",
            "+----------------------+-------------+----------+--------------------+\n",
            "|                     0|  [225.0,2.0]|       0.0|[0.99118942731277...|\n",
            "|                     0|  [225.0,2.0]|       0.0|[0.99118942731277...|\n",
            "|                     0|  [225.0,2.0]|       0.0|[0.99118942731277...|\n",
            "|                     0|  [225.0,2.0]|       0.0|[0.99118942731277...|\n",
            "|                     0|  [225.0,2.0]|       0.0|[0.99118942731277...|\n",
            "|                     0|  [225.0,2.0]|       0.0|[0.99118942731277...|\n",
            "|                     0|  [225.0,2.0]|       0.0|[0.99118942731277...|\n",
            "|                     0|  [225.0,2.0]|       0.0|[0.99118942731277...|\n",
            "|                     0|   [14.0,0.0]|       0.0|           [1.0,0.0]|\n",
            "|                     0|  [225.0,2.0]|       0.0|[0.99118942731277...|\n",
            "+----------------------+-------------+----------+--------------------+\n",
            "only showing top 10 rows\n",
            "\n",
            "Jumlah prediksi yang salah: 18\n"
          ]
        }
      ]
    },
    {
      "cell_type": "markdown",
      "source": [
        "### Tuning Logistic Regression"
      ],
      "metadata": {
        "id": "HYKopl-MzBnN"
      }
    },
    {
      "cell_type": "code",
      "source": [
        "from pyspark.ml.classification import LogisticRegression\n",
        "from pyspark.ml.tuning import ParamGridBuilder, CrossValidator\n",
        "from pyspark.ml.evaluation import BinaryClassificationEvaluator, MulticlassClassificationEvaluator\n",
        "\n",
        "# Membuat Logistic Regression model\n",
        "lr = LogisticRegression(featuresCol='features', labelCol='Cardiovascular_Disease')\n",
        "\n",
        "# Membuat ParamGrid untuk Cross Validation\n",
        "paramGrid = (ParamGridBuilder()\n",
        "             .addGrid(lr.regParam, [0.1, 0.01])\n",
        "             .addGrid(lr.elasticNetParam, [0.0, 0.5, 1.0])\n",
        "             .addGrid(lr.maxIter, [20, 25, 30])\n",
        "             .build())\n",
        "\n",
        "# Inisialisasi evaluator\n",
        "evaluator_accuracy = MulticlassClassificationEvaluator(\n",
        "    labelCol='Cardiovascular_Disease',\n",
        "    predictionCol='prediction',\n",
        "    metricName='accuracy'\n",
        ")\n",
        "\n",
        "evaluator_f1 = MulticlassClassificationEvaluator(\n",
        "    labelCol='Cardiovascular_Disease',\n",
        "    predictionCol='prediction',\n",
        "    metricName='f1'\n",
        ")\n",
        "\n",
        "evaluator_precision_multiclass = MulticlassClassificationEvaluator(\n",
        "    labelCol='Cardiovascular_Disease',\n",
        "    predictionCol='prediction',\n",
        "    metricName='weightedPrecision'\n",
        ")\n",
        "\n",
        "evaluator_recall_multiclass = MulticlassClassificationEvaluator(\n",
        "    labelCol='Cardiovascular_Disease',\n",
        "    predictionCol='prediction',\n",
        "    metricName='weightedRecall'\n",
        ")\n",
        "\n",
        "# Inisialisasi CrossValidator dengan LogisticRegression dan ParamGrid\n",
        "crossValidator_lr = CrossValidator(\n",
        "    estimator=lr,\n",
        "    estimatorParamMaps=paramGrid,\n",
        "    evaluator=evaluator_f1,\n",
        "    numFolds=5\n",
        ")\n",
        "\n",
        "# Melatih model menggunakan data pelatihan\n",
        "cv_model_lr = crossValidator_lr.fit(train)\n",
        "\n",
        "# Membuat prediksi menggunakan data uji\n",
        "lr_predictions2 = cv_model_lr.transform(test)\n",
        "\n",
        "# Menampilkan beberapa hasil prediksi\n",
        "lr_predictions2.select('Cardiovascular_Disease', 'rawPrediction', 'prediction', 'probability').show(10)\n",
        "\n",
        "# Evaluasi AUC\n",
        "auc = evaluator_auc.evaluate(lr_predictions2)\n",
        "print(f'Test AUC: {auc:.2%}')\n",
        "\n",
        "# Evaluasi Akurasi\n",
        "accuracy = evaluator_accuracy.evaluate(lr_predictions2)\n",
        "print(f'Test Accuracy: {accuracy:.2%}')\n",
        "\n",
        "# Evaluasi F1-Score\n",
        "f1_score = evaluator_f1.evaluate(lr_predictions2)\n",
        "print(f'Test F1-Score: {f1_score:.2%}')\n",
        "\n",
        "# Evaluasi Presisi Terponderasi (Multiclass)\n",
        "precision_multiclass = evaluator_precision_multiclass.evaluate(lr_predictions2)\n",
        "print(f'Presisi : {precision_multiclass:.2%}')\n",
        "\n",
        "# Evaluasi Recall Terponderasi (Multiclass)\n",
        "recall_multiclass = evaluator_recall_multiclass.evaluate(lr_predictions2)\n",
        "print(f'Recall : {recall_multiclass:.2%}')\n",
        "\n",
        "# Menampilkan prediksi yang salah\n",
        "wrong_predictions_lr = lr_predictions2.filter(col('Cardiovascular_Disease') != col('prediction'))\n",
        "wrong_predictions_lr.select('Cardiovascular_Disease', 'rawPrediction', 'prediction', 'probability').show(10)\n",
        "\n",
        "# Menampilkan jumlah prediksi yang salah\n",
        "count_wrong_predictions_lr = wrong_predictions_lr.count()\n",
        "print(f'Jumlah prediksi yang salah: {count_wrong_predictions_lr}')\n"
      ],
      "metadata": {
        "colab": {
          "base_uri": "https://localhost:8080/"
        },
        "outputId": "87a02285-761d-4910-f5ad-cfd896c265ab",
        "id": "WCoNzd4hzBnX"
      },
      "execution_count": null,
      "outputs": [
        {
          "output_type": "stream",
          "name": "stdout",
          "text": [
            "+----------------------+--------------------+----------+--------------------+\n",
            "|Cardiovascular_Disease|       rawPrediction|prediction|         probability|\n",
            "+----------------------+--------------------+----------+--------------------+\n",
            "|                     0|[5.50541333952040...|       0.0|[0.99595174683843...|\n",
            "|                     0|[4.82473800788152...|       0.0|[0.99203528889414...|\n",
            "|                     0|[4.5087101753349,...|       0.0|[0.98910730211460...|\n",
            "|                     0|[3.44180605743672...|       0.0|[0.96898583798784...|\n",
            "|                     0|[3.02853889179883...|       0.0|[0.95384689323660...|\n",
            "|                     0|[2.95560939198038...|       0.0|[0.95052793535397...|\n",
            "|                     0|[2.95560939198038...|       0.0|[0.95052793535397...|\n",
            "|                     0|[2.93129955870756...|       0.0|[0.94937217439163...|\n",
            "|                     0|[2.83406022561629...|       0.0|[0.94448886286664...|\n",
            "|                     0|[2.83406022561629...|       0.0|[0.94448886286664...|\n",
            "+----------------------+--------------------+----------+--------------------+\n",
            "only showing top 10 rows\n",
            "\n",
            "Test AUC: 99.41%\n",
            "Test Accuracy: 96.95%\n",
            "Test F1-Score: 96.95%\n",
            "Presisi : 96.95%\n",
            "Recall : 96.95%\n",
            "+----------------------+--------------------+----------+--------------------+\n",
            "|Cardiovascular_Disease|       rawPrediction|prediction|         probability|\n",
            "+----------------------+--------------------+----------+--------------------+\n",
            "|                     1|[0.86745047885536...|       0.0|[0.70421491889906...|\n",
            "|                     0|[-0.3396127640097...|       1.0|[0.41590354438192...|\n",
            "|                     0|[-0.2426152286869...|       1.0|[0.43964196973098...|\n",
            "|                     1|[0.66100781368606...|       0.0|[0.65948674346601...|\n",
            "|                     1|[0.41790948095788...|       0.0|[0.60298289895844...|\n",
            "|                     0|[-2.2966052225904...|       1.0|[0.09140450553645...|\n",
            "+----------------------+--------------------+----------+--------------------+\n",
            "\n",
            "Jumlah prediksi yang salah: 6\n"
          ]
        }
      ]
    },
    {
      "cell_type": "markdown",
      "source": [
        "### Tuning GBT"
      ],
      "metadata": {
        "id": "Eg6v2UCT1bOJ"
      }
    },
    {
      "cell_type": "code",
      "source": [
        "from pyspark.ml.tuning import ParamGridBuilder, CrossValidator\n",
        "\n",
        "gbt = GBTClassifier(featuresCol='features', labelCol='Cardiovascular_Disease')\n",
        "\n",
        "# Membuat ParamGrid untuk Cross Validation\n",
        "paramGrid = (ParamGridBuilder()\n",
        "              .addGrid(gbt.maxDepth, [5, 7, 9])\n",
        "              .addGrid(gbt.maxBins, [42, 84])\n",
        "              .addGrid(gbt.stepSize, [0.2, 0.02])\n",
        "              .addGrid(gbt.maxIter, [20, 25, 30])\n",
        "              .build())\n",
        "\n",
        "# Inisialisasi evaluator\n",
        "evaluator_accuracy = MulticlassClassificationEvaluator(\n",
        "    labelCol='Cardiovascular_Disease',\n",
        "    predictionCol='prediction',\n",
        "    metricName='accuracy'\n",
        ")\n",
        "\n",
        "evaluator_f1 = MulticlassClassificationEvaluator(\n",
        "    labelCol='Cardiovascular_Disease',\n",
        "    predictionCol='prediction',\n",
        "    metricName='f1'\n",
        ")\n",
        "\n",
        "evaluator_precision_multiclass = MulticlassClassificationEvaluator(\n",
        "    labelCol='Cardiovascular_Disease',\n",
        "    predictionCol='prediction',\n",
        "    metricName='weightedPrecision'\n",
        ")\n",
        "\n",
        "evaluator_recall_multiclass = MulticlassClassificationEvaluator(\n",
        "    labelCol='Cardiovascular_Disease',\n",
        "    predictionCol='prediction',\n",
        "    metricName='weightedRecall'\n",
        ")\n",
        "\n",
        "# Inisialisasi CrossValidator dengan GBTClassifier dan ParamGrid\n",
        "CrossValidator_gbt = CrossValidator(estimator=gbt,\n",
        "                        estimatorParamMaps=paramGrid,\n",
        "                        evaluator=evaluator_f1,\n",
        "                        numFolds=5)\n",
        "\n",
        "# Melatih model menggunakan data pelatihan\n",
        "cv_model_gbt = CrossValidator_gbt.fit(train)\n",
        "\n",
        "# Membuat prediksi menggunakan data uji\n",
        "gbt_predictions2 = cv_model_gbt.transform(test)\n",
        "\n",
        "gbt_predictions2.select('Cardiovascular_Disease', 'rawPrediction', 'prediction', 'probability').show(10)\n",
        "\n",
        "from pyspark.ml.classification import GBTClassifier\n",
        "from pyspark.ml.evaluation import BinaryClassificationEvaluator, MulticlassClassificationEvaluator\n",
        "\n",
        "# Evaluasi AUC\n",
        "evaluator_auc = BinaryClassificationEvaluator(\n",
        "    labelCol='Cardiovascular_Disease',\n",
        "    rawPredictionCol='rawPrediction',\n",
        "    metricName='areaUnderROC'\n",
        ")\n",
        "auc = evaluator_auc.evaluate(gbt_predictions2)\n",
        "print(f'Test AUC: {auc:.2%}')\n",
        "\n",
        "evaluator_accuracy = MulticlassClassificationEvaluator(\n",
        "    labelCol='Cardiovascular_Disease',\n",
        "    predictionCol='prediction',\n",
        "    metricName='accuracy'\n",
        ")\n",
        "\n",
        "accuracy = evaluator_accuracy.evaluate(gbt_predictions2)\n",
        "print(f'Test Accuracy: {accuracy:.2%}')\n",
        "\n",
        "evaluator_f1 = MulticlassClassificationEvaluator(\n",
        "    labelCol='Cardiovascular_Disease',\n",
        "    predictionCol='prediction',\n",
        "    metricName='f1'\n",
        ")\n",
        "\n",
        "f1_score = evaluator_f1.evaluate(gbt_predictions2)\n",
        "print(f'Test F1-Score: {f1_score:.2%}')\n",
        "\n",
        "# Inisialisasi evaluator Presisi Terponderasi (Multiclass)\n",
        "evaluator_precision_multiclass = MulticlassClassificationEvaluator(\n",
        "    labelCol='Cardiovascular_Disease',\n",
        "    predictionCol='prediction',\n",
        "    metricName='weightedPrecision'\n",
        ")\n",
        "\n",
        "# Evaluasi Presisi Terponderasi\n",
        "precision_multiclass = evaluator_precision_multiclass.evaluate(gbt_predictions2)\n",
        "print(f'Presisi : {precision_multiclass:.2%}')\n",
        "\n",
        "# Inisialisasi evaluator Recall Terponderasi (Multiclass)\n",
        "evaluator_recall_multiclass = MulticlassClassificationEvaluator(\n",
        "    labelCol='Cardiovascular_Disease',\n",
        "    predictionCol='prediction',\n",
        "    metricName='weightedRecall'\n",
        ")\n",
        "\n",
        "# Evaluasi Recall Terponderasi\n",
        "recall_multiclass = evaluator_recall_multiclass.evaluate(gbt_predictions2)\n",
        "print(f'Recall : {recall_multiclass:.2%}')\n",
        "\n",
        "wrong_predictions = gbt_predictions2.filter(col('Cardiovascular_Disease') != col('prediction'))\n",
        "\n",
        "wrong_predictions.select('Cardiovascular_Disease', 'rawPrediction', 'prediction', 'probability').show(10)\n",
        "\n",
        "count_wrong_predictions = wrong_predictions.count()\n",
        "print(f'Jumlah prediksi yang salah: {count_wrong_predictions}')\n"
      ],
      "metadata": {
        "colab": {
          "base_uri": "https://localhost:8080/"
        },
        "outputId": "5f9f4b55-46a1-4002-a2a0-815564d5fe3f",
        "id": "ulMGmqN31bOU"
      },
      "execution_count": null,
      "outputs": [
        {
          "output_type": "stream",
          "name": "stdout",
          "text": [
            "+----------------------+--------------------+----------+--------------------+\n",
            "|Cardiovascular_Disease|       rawPrediction|prediction|         probability|\n",
            "+----------------------+--------------------+----------+--------------------+\n",
            "|                     0|[1.96867890088169...|       0.0|[0.98087329566839...|\n",
            "|                     0|[1.96867890088169...|       0.0|[0.98087329566839...|\n",
            "|                     0|[1.90765557421038...|       0.0|[0.97844403783252...|\n",
            "|                     0|[1.95148384303335...|       0.0|[0.98021732370946...|\n",
            "|                     0|[1.95148384303335...|       0.0|[0.98021732370946...|\n",
            "|                     0|[1.95148384303335...|       0.0|[0.98021732370946...|\n",
            "|                     0|[1.95148384303335...|       0.0|[0.98021732370946...|\n",
            "|                     0|[1.95148384303335...|       0.0|[0.98021732370946...|\n",
            "|                     0|[1.95148384303335...|       0.0|[0.98021732370946...|\n",
            "|                     0|[1.95148384303335...|       0.0|[0.98021732370946...|\n",
            "+----------------------+--------------------+----------+--------------------+\n",
            "only showing top 10 rows\n",
            "\n",
            "Test AUC: 99.58%\n",
            "Test Accuracy: 96.45%\n",
            "Test F1-Score: 96.44%\n",
            "Presisi : 96.44%\n",
            "Recall : 96.45%\n",
            "+----------------------+--------------------+----------+--------------------+\n",
            "|Cardiovascular_Disease|       rawPrediction|prediction|         probability|\n",
            "+----------------------+--------------------+----------+--------------------+\n",
            "|                     0|[-0.2845514650480...|       1.0|[0.36144384480589...|\n",
            "|                     0|[-0.5367245756786...|       1.0|[0.25474770451960...|\n",
            "|                     0|[-1.6889147584854...|       1.0|[0.03299557796458...|\n",
            "|                     0|[-1.9502997622213...|       1.0|[0.01982865033683...|\n",
            "|                     1|[0.39557759082300...|       0.0|[0.68807931664723...|\n",
            "|                     1|[1.03597959098536...|       0.0|[0.88814773724902...|\n",
            "|                     1|[0.31350800470853...|       0.0|[0.65181254387379...|\n",
            "+----------------------+--------------------+----------+--------------------+\n",
            "\n",
            "Jumlah prediksi yang salah: 7\n"
          ]
        }
      ]
    },
    {
      "cell_type": "markdown",
      "metadata": {
        "id": "yiuO7w6a8t9i"
      },
      "source": [
        "## Visualisasikan Hasil Model Terbaik"
      ]
    },
    {
      "cell_type": "code",
      "source": [
        "from pyspark.mllib.evaluation import MulticlassMetrics\n",
        "import seaborn as sns\n",
        "import matplotlib.pyplot as plt\n",
        "\n",
        "# Konversi DataFrame ke RDD\n",
        "prediction_and_labels = lr_predictions2.select('prediction', 'Cardiovascular_Disease').rdd.map(lambda row: (float(row['prediction']), float(row['Cardiovascular_Disease'])))\n",
        "\n",
        "# Inisialisasi MulticlassMetrics\n",
        "metrics = MulticlassMetrics(prediction_and_labels)\n",
        "\n",
        "# Tampilkan confusion matrix\n",
        "confusion_matrix = metrics.confusionMatrix().toArray()\n",
        "\n",
        "# Konversi confusion matrix ke tipe data integer\n",
        "confusion_matrix = confusion_matrix.astype(int)\n",
        "\n",
        "# Tampilkan confusion matrix\n",
        "sns.heatmap(confusion_matrix, annot=True, fmt=\"d\", cmap=\"Blues\", xticklabels=[0, 1], yticklabels=[0, 1])\n",
        "plt.title('Confusion Matrix')\n",
        "plt.xlabel('Predicted Label')\n",
        "plt.ylabel('True Label')\n",
        "plt.show()\n"
      ],
      "metadata": {
        "colab": {
          "base_uri": "https://localhost:8080/",
          "height": 507
        },
        "id": "QGzKaWNcWb5f",
        "outputId": "43409657-70c5-40d4-c83b-00c9ad55a3bf"
      },
      "execution_count": null,
      "outputs": [
        {
          "output_type": "stream",
          "name": "stderr",
          "text": [
            "/usr/local/lib/python3.10/dist-packages/pyspark/sql/context.py:158: FutureWarning: Deprecated in 3.0.0. Use SparkSession.builder.getOrCreate() instead.\n",
            "  warnings.warn(\n"
          ]
        },
        {
          "output_type": "display_data",
          "data": {
            "text/plain": [
              "<Figure size 640x480 with 2 Axes>"
            ],
            "image/png": "[encoded data removed]"
          },
          "metadata": {}
        }
      ]
    },
    {
      "cell_type": "code",
      "source": [
        "import matplotlib.pyplot as plt\n",
        "\n",
        "from pyspark.ml.evaluation import MulticlassClassificationEvaluator\n",
        "\n",
        "evaluator = MulticlassClassificationEvaluator(labelCol=\"Cardiovascular_Disease\", predictionCol=\"prediction\", metricName=\"accuracy\")\n",
        "accuracy = evaluator.evaluate(lr_predictions2)\n",
        "\n",
        "\n",
        "# Data untuk diplot\n",
        "labels = ['Akurasi']\n",
        "values = [accuracy]\n",
        "\n",
        "# Buat plot bar\n",
        "plt.bar(labels, values, color=['blue'])\n",
        "\n",
        "# Tambahkan label dan judul\n",
        "plt.xlabel('Metrik')\n",
        "plt.ylabel('Nilai')\n",
        "plt.title('Grafik Akurasi Model')\n",
        "\n",
        "# Tampilkan plot\n",
        "plt.show()"
      ],
      "metadata": {
        "id": "n1ZZ1_LE0GEx",
        "colab": {
          "base_uri": "https://localhost:8080/",
          "height": 472
        },
        "outputId": "f4aaa849-8a46-4c78-e3b1-de70ebffea6d"
      },
      "execution_count": null,
      "outputs": [
        {
          "output_type": "display_data",
          "data": {
            "text/plain": [
              "<Figure size 640x480 with 1 Axes>"
            ],
            "image/png": "[encoded data removed]"
          },
          "metadata": {}
        }
      ]
    }
  ]
}